{
 "cells": [
  {
   "cell_type": "code",
   "execution_count": 1,
   "metadata": {},
   "outputs": [],
   "source": [
    "import pandas as pd\n",
    "import numpy as np\n",
    "pd.set_option('display.max_columns', None)"
   ]
  },
  {
   "cell_type": "code",
   "execution_count": 2,
   "metadata": {},
   "outputs": [],
   "source": [
    "car=pd.read_csv(\"/Users/xinjianlu/Downloads/Automobile_data.csv\")"
   ]
  },
  {
   "cell_type": "code",
   "execution_count": 3,
   "metadata": {},
   "outputs": [
    {
     "data": {
      "text/html": [
       "<div>\n",
       "<style scoped>\n",
       "    .dataframe tbody tr th:only-of-type {\n",
       "        vertical-align: middle;\n",
       "    }\n",
       "\n",
       "    .dataframe tbody tr th {\n",
       "        vertical-align: top;\n",
       "    }\n",
       "\n",
       "    .dataframe thead th {\n",
       "        text-align: right;\n",
       "    }\n",
       "</style>\n",
       "<table border=\"1\" class=\"dataframe\">\n",
       "  <thead>\n",
       "    <tr style=\"text-align: right;\">\n",
       "      <th></th>\n",
       "      <th>symboling</th>\n",
       "      <th>normalized-losses</th>\n",
       "      <th>make</th>\n",
       "      <th>fuel-type</th>\n",
       "      <th>aspiration</th>\n",
       "      <th>num-of-doors</th>\n",
       "      <th>body-style</th>\n",
       "      <th>drive-wheels</th>\n",
       "      <th>engine-location</th>\n",
       "      <th>wheel-base</th>\n",
       "      <th>length</th>\n",
       "      <th>width</th>\n",
       "      <th>height</th>\n",
       "      <th>curb-weight</th>\n",
       "      <th>engine-type</th>\n",
       "      <th>num-of-cylinders</th>\n",
       "      <th>engine-size</th>\n",
       "      <th>fuel-system</th>\n",
       "      <th>bore</th>\n",
       "      <th>stroke</th>\n",
       "      <th>compression-ratio</th>\n",
       "      <th>horsepower</th>\n",
       "      <th>peak-rpm</th>\n",
       "      <th>city-mpg</th>\n",
       "      <th>highway-mpg</th>\n",
       "      <th>price</th>\n",
       "    </tr>\n",
       "  </thead>\n",
       "  <tbody>\n",
       "    <tr>\n",
       "      <th>0</th>\n",
       "      <td>3</td>\n",
       "      <td>NaN</td>\n",
       "      <td>alfa-romero</td>\n",
       "      <td>gas</td>\n",
       "      <td>std</td>\n",
       "      <td>two</td>\n",
       "      <td>convertible</td>\n",
       "      <td>rwd</td>\n",
       "      <td>front</td>\n",
       "      <td>88.6</td>\n",
       "      <td>168.8</td>\n",
       "      <td>64.1</td>\n",
       "      <td>48.8</td>\n",
       "      <td>2548</td>\n",
       "      <td>dohc</td>\n",
       "      <td>four</td>\n",
       "      <td>130</td>\n",
       "      <td>mpfi</td>\n",
       "      <td>3.47</td>\n",
       "      <td>2.68</td>\n",
       "      <td>9</td>\n",
       "      <td>111.0</td>\n",
       "      <td>5000.0</td>\n",
       "      <td>21</td>\n",
       "      <td>27</td>\n",
       "      <td>13495.0</td>\n",
       "    </tr>\n",
       "    <tr>\n",
       "      <th>1</th>\n",
       "      <td>3</td>\n",
       "      <td>NaN</td>\n",
       "      <td>alfa-romero</td>\n",
       "      <td>gas</td>\n",
       "      <td>std</td>\n",
       "      <td>two</td>\n",
       "      <td>convertible</td>\n",
       "      <td>rwd</td>\n",
       "      <td>front</td>\n",
       "      <td>88.6</td>\n",
       "      <td>168.8</td>\n",
       "      <td>64.1</td>\n",
       "      <td>48.8</td>\n",
       "      <td>2548</td>\n",
       "      <td>dohc</td>\n",
       "      <td>four</td>\n",
       "      <td>130</td>\n",
       "      <td>mpfi</td>\n",
       "      <td>3.47</td>\n",
       "      <td>2.68</td>\n",
       "      <td>9</td>\n",
       "      <td>111.0</td>\n",
       "      <td>5000.0</td>\n",
       "      <td>21</td>\n",
       "      <td>27</td>\n",
       "      <td>16500.0</td>\n",
       "    </tr>\n",
       "    <tr>\n",
       "      <th>2</th>\n",
       "      <td>1</td>\n",
       "      <td>NaN</td>\n",
       "      <td>alfa-romero</td>\n",
       "      <td>gas</td>\n",
       "      <td>std</td>\n",
       "      <td>two</td>\n",
       "      <td>hatchback</td>\n",
       "      <td>rwd</td>\n",
       "      <td>front</td>\n",
       "      <td>94.5</td>\n",
       "      <td>171.2</td>\n",
       "      <td>65.5</td>\n",
       "      <td>52.4</td>\n",
       "      <td>2823</td>\n",
       "      <td>ohcv</td>\n",
       "      <td>six</td>\n",
       "      <td>152</td>\n",
       "      <td>mpfi</td>\n",
       "      <td>2.68</td>\n",
       "      <td>3.47</td>\n",
       "      <td>9</td>\n",
       "      <td>154.0</td>\n",
       "      <td>5000.0</td>\n",
       "      <td>19</td>\n",
       "      <td>26</td>\n",
       "      <td>16500.0</td>\n",
       "    </tr>\n",
       "  </tbody>\n",
       "</table>\n",
       "</div>"
      ],
      "text/plain": [
       "   symboling  normalized-losses         make fuel-type aspiration  \\\n",
       "0          3                NaN  alfa-romero       gas        std   \n",
       "1          3                NaN  alfa-romero       gas        std   \n",
       "2          1                NaN  alfa-romero       gas        std   \n",
       "\n",
       "  num-of-doors   body-style drive-wheels engine-location  wheel-base  length  \\\n",
       "0          two  convertible          rwd           front        88.6   168.8   \n",
       "1          two  convertible          rwd           front        88.6   168.8   \n",
       "2          two    hatchback          rwd           front        94.5   171.2   \n",
       "\n",
       "   width  height  curb-weight engine-type num-of-cylinders  engine-size  \\\n",
       "0   64.1    48.8         2548        dohc             four          130   \n",
       "1   64.1    48.8         2548        dohc             four          130   \n",
       "2   65.5    52.4         2823        ohcv              six          152   \n",
       "\n",
       "  fuel-system  bore  stroke  compression-ratio  horsepower  peak-rpm  \\\n",
       "0        mpfi  3.47    2.68                  9       111.0    5000.0   \n",
       "1        mpfi  3.47    2.68                  9       111.0    5000.0   \n",
       "2        mpfi  2.68    3.47                  9       154.0    5000.0   \n",
       "\n",
       "   city-mpg  highway-mpg    price  \n",
       "0        21           27  13495.0  \n",
       "1        21           27  16500.0  \n",
       "2        19           26  16500.0  "
      ]
     },
     "execution_count": 3,
     "metadata": {},
     "output_type": "execute_result"
    }
   ],
   "source": [
    "car.head(3)"
   ]
  },
  {
   "cell_type": "code",
   "execution_count": 4,
   "metadata": {},
   "outputs": [
    {
     "data": {
      "text/plain": [
       "symboling             0\n",
       "normalized-losses    41\n",
       "make                  0\n",
       "fuel-type             0\n",
       "aspiration            0\n",
       "num-of-doors          0\n",
       "body-style            0\n",
       "drive-wheels          0\n",
       "engine-location       0\n",
       "wheel-base            0\n",
       "length                0\n",
       "width                 0\n",
       "height                0\n",
       "curb-weight           0\n",
       "engine-type           0\n",
       "num-of-cylinders      0\n",
       "engine-size           0\n",
       "fuel-system           0\n",
       "bore                  4\n",
       "stroke                4\n",
       "compression-ratio     0\n",
       "horsepower            2\n",
       "peak-rpm              2\n",
       "city-mpg              0\n",
       "highway-mpg           0\n",
       "price                 4\n",
       "dtype: int64"
      ]
     },
     "execution_count": 4,
     "metadata": {},
     "output_type": "execute_result"
    }
   ],
   "source": [
    "car.isnull().sum()"
   ]
  },
  {
   "cell_type": "code",
   "execution_count": 5,
   "metadata": {},
   "outputs": [],
   "source": [
    "import seaborn as sns\n",
    "import matplotlib.pyplot as plt"
   ]
  },
  {
   "cell_type": "markdown",
   "metadata": {},
   "source": [
    "# Data Exploration"
   ]
  },
  {
   "cell_type": "code",
   "execution_count": 6,
   "metadata": {},
   "outputs": [
    {
     "data": {
      "text/plain": [
       "<seaborn.axisgrid.FacetGrid at 0x7ffaa2ce4df0>"
      ]
     },
     "execution_count": 6,
     "metadata": {},
     "output_type": "execute_result"
    },
    {
     "data": {
      "image/png": "[encoded data removed]",
      "text/plain": [
       "<Figure size 360x360 with 1 Axes>"
      ]
     },
     "metadata": {
      "needs_background": "light"
     },
     "output_type": "display_data"
    },
    {
     "data": {
      "image/png": "[encoded data removed]",
      "text/plain": [
       "<Figure size 425.625x360 with 1 Axes>"
      ]
     },
     "metadata": {
      "needs_background": "light"
     },
     "output_type": "display_data"
    }
   ],
   "source": [
    "sns.catplot(x=\"symboling\", y=\"price\", data=car,kind=\"box\")\n",
    "sns.catplot(x=\"symboling\", y=\"price\", data=car,kind=\"violin\",hue=\"fuel-type\")"
   ]
  },
  {
   "cell_type": "code",
   "execution_count": 7,
   "metadata": {},
   "outputs": [
    {
     "data": {
      "text/plain": [
       "<seaborn.axisgrid.FacetGrid at 0x7ffaa3474f10>"
      ]
     },
     "execution_count": 7,
     "metadata": {},
     "output_type": "execute_result"
    },
    {
     "data": {
      "image/png": "[encoded data removed]",
      "text/plain": [
       "<Figure size 216x216 with 1 Axes>"
      ]
     },
     "metadata": {
      "needs_background": "light"
     },
     "output_type": "display_data"
    },
    {
     "data": {
      "image/png": "[encoded data removed]",
      "text/plain": [
       "<Figure size 216x216 with 1 Axes>"
      ]
     },
     "metadata": {
      "needs_background": "light"
     },
     "output_type": "display_data"
    }
   ],
   "source": [
    "sns.catplot(x=\"fuel-type\", y=\"price\", data=car,kind=\"box\",height=3)\n",
    "sns.catplot(x=\"fuel-type\", y=\"price\", data=car,kind=\"violin\",height=3)"
   ]
  },
  {
   "cell_type": "code",
   "execution_count": 8,
   "metadata": {},
   "outputs": [
    {
     "data": {
      "text/plain": [
       "<seaborn.axisgrid.FacetGrid at 0x7ffaa3474640>"
      ]
     },
     "execution_count": 8,
     "metadata": {},
     "output_type": "execute_result"
    },
    {
     "data": {
      "image/png": "[encoded data removed]",
      "text/plain": [
       "<Figure size 288x288 with 1 Axes>"
      ]
     },
     "metadata": {
      "needs_background": "light"
     },
     "output_type": "display_data"
    }
   ],
   "source": [
    "sns.catplot(x=\"num-of-doors\", y=\"price\", data=car,kind=\"box\",height=4)"
   ]
  },
  {
   "cell_type": "code",
   "execution_count": 9,
   "metadata": {},
   "outputs": [
    {
     "data": {
      "text/plain": [
       "<seaborn.axisgrid.FacetGrid at 0x7ffaa3460970>"
      ]
     },
     "execution_count": 9,
     "metadata": {},
     "output_type": "execute_result"
    },
    {
     "data": {
      "image/png": "[encoded data removed]",
      "text/plain": [
       "<Figure size 360x360 with 1 Axes>"
      ]
     },
     "metadata": {
      "needs_background": "light"
     },
     "output_type": "display_data"
    }
   ],
   "source": [
    "sns.catplot(x=\"body-style\", y=\"price\", data=car,kind=\"violin\",height=5)"
   ]
  },
  {
   "cell_type": "code",
   "execution_count": 10,
   "metadata": {},
   "outputs": [
    {
     "data": {
      "text/plain": [
       "<seaborn.axisgrid.FacetGrid at 0x7ffaa34748b0>"
      ]
     },
     "execution_count": 10,
     "metadata": {},
     "output_type": "execute_result"
    },
    {
     "data": {
      "image/png": "[encoded data removed]",
      "text/plain": [
       "<Figure size 288x288 with 1 Axes>"
      ]
     },
     "metadata": {
      "needs_background": "light"
     },
     "output_type": "display_data"
    }
   ],
   "source": [
    "sns.catplot(x=\"drive-wheels\", y=\"price\", data=car,kind=\"violin\",height=4)"
   ]
  },
  {
   "cell_type": "code",
   "execution_count": 11,
   "metadata": {},
   "outputs": [
    {
     "data": {
      "text/plain": [
       "<seaborn.axisgrid.FacetGrid at 0x7ffaa36edd30>"
      ]
     },
     "execution_count": 11,
     "metadata": {},
     "output_type": "execute_result"
    },
    {
     "data": {
      "image/png": "[encoded data removed]",
      "text/plain": [
       "<Figure size 216x216 with 1 Axes>"
      ]
     },
     "metadata": {
      "needs_background": "light"
     },
     "output_type": "display_data"
    }
   ],
   "source": [
    "sns.catplot(x=\"engine-location\", y=\"price\", data=car,kind=\"violin\",height=3)"
   ]
  },
  {
   "cell_type": "code",
   "execution_count": 12,
   "metadata": {},
   "outputs": [
    {
     "data": {
      "text/plain": [
       "<seaborn.axisgrid.FacetGrid at 0x7ffaa39dfd30>"
      ]
     },
     "execution_count": 12,
     "metadata": {},
     "output_type": "execute_result"
    },
    {
     "data": {
      "image/png": "[encoded data removed]",
      "text/plain": [
       "<Figure size 288x288 with 1 Axes>"
      ]
     },
     "metadata": {
      "needs_background": "light"
     },
     "output_type": "display_data"
    },
    {
     "data": {
      "image/png": "[encoded data removed]",
      "text/plain": [
       "<Figure size 288x288 with 1 Axes>"
      ]
     },
     "metadata": {
      "needs_background": "light"
     },
     "output_type": "display_data"
    }
   ],
   "source": [
    "sns.catplot(x=\"num-of-cylinders\", data=car,kind=\"count\",height=4)\n",
    "sns.catplot(x=\"num-of-cylinders\", y=\"price\", data=car,kind=\"box\",height=4)"
   ]
  },
  {
   "cell_type": "code",
   "execution_count": 13,
   "metadata": {},
   "outputs": [],
   "source": [
    "car[\"volume\"]=car[\"length\"]*car[\"width\"]*car[\"height\"]"
   ]
  },
  {
   "cell_type": "code",
   "execution_count": 14,
   "metadata": {},
   "outputs": [],
   "source": [
    "car.drop([\"length\",\"width\",\"height\"],axis=1,inplace=True)"
   ]
  },
  {
   "cell_type": "code",
   "execution_count": 15,
   "metadata": {},
   "outputs": [
    {
     "data": {
      "text/plain": [
       "<AxesSubplot:>"
      ]
     },
     "execution_count": 15,
     "metadata": {},
     "output_type": "execute_result"
    },
    {
     "data": {
      "image/png": "[encoded data removed]",
      "text/plain": [
       "<Figure size 792x648 with 2 Axes>"
      ]
     },
     "metadata": {
      "needs_background": "light"
     },
     "output_type": "display_data"
    }
   ],
   "source": [
    "mask=np.zeros_like(car.corr())\n",
    "mask[np.triu_indices_from(mask)]=True\n",
    "f,ax=plt.subplots(figsize=(11,9))\n",
    "sns.heatmap(car.corr(),mask=mask,cmap=\"YlGnBu\",ax=ax,annot=True)"
   ]
  },
  {
   "cell_type": "markdown",
   "metadata": {},
   "source": [
    "# Feature Engineering"
   ]
  },
  {
   "cell_type": "code",
   "execution_count": 16,
   "metadata": {},
   "outputs": [
    {
     "name": "stdout",
     "output_type": "stream",
     "text": [
      "{0: 'eight', 1: 'five', 2: 'four', 3: 'six', 4: 'three', 5: 'twelve', 6: 'two'}\n"
     ]
    }
   ],
   "source": [
    "#car[\"num-of-cylinders\"].value_counts()\n",
    "from sklearn.preprocessing import LabelEncoder\n",
    "gle=LabelEncoder()\n",
    "cylinder_labels=gle.fit_transform(car[\"num-of-cylinders\"])\n",
    "cylinder_mappings={index: label for index, label in enumerate(gle.classes_)}\n",
    "print(cylinder_mappings)\n",
    "car[\"num-of-cylinders\"]=cylinder_labels"
   ]
  },
  {
   "cell_type": "code",
   "execution_count": 17,
   "metadata": {},
   "outputs": [
    {
     "name": "stdout",
     "output_type": "stream",
     "text": [
      "{0: -2, 1: -1, 2: 0, 3: 1, 4: 2, 5: 3}\n"
     ]
    }
   ],
   "source": [
    "symboling_labels=gle.fit_transform(car[\"symboling\"])\n",
    "symbiling_mappings={index: label for index, label in enumerate(gle.classes_)}\n",
    "print(symbiling_mappings)\n",
    "car[\"symboling\"]=symboling_labels"
   ]
  },
  {
   "cell_type": "code",
   "execution_count": 18,
   "metadata": {},
   "outputs": [
    {
     "data": {
      "text/html": [
       "<div>\n",
       "<style scoped>\n",
       "    .dataframe tbody tr th:only-of-type {\n",
       "        vertical-align: middle;\n",
       "    }\n",
       "\n",
       "    .dataframe tbody tr th {\n",
       "        vertical-align: top;\n",
       "    }\n",
       "\n",
       "    .dataframe thead th {\n",
       "        text-align: right;\n",
       "    }\n",
       "</style>\n",
       "<table border=\"1\" class=\"dataframe\">\n",
       "  <thead>\n",
       "    <tr style=\"text-align: right;\">\n",
       "      <th></th>\n",
       "      <th>symboling</th>\n",
       "      <th>normalized-losses</th>\n",
       "      <th>make</th>\n",
       "      <th>fuel-type</th>\n",
       "      <th>aspiration</th>\n",
       "      <th>num-of-doors</th>\n",
       "      <th>body-style</th>\n",
       "      <th>drive-wheels</th>\n",
       "      <th>engine-location</th>\n",
       "      <th>wheel-base</th>\n",
       "      <th>curb-weight</th>\n",
       "      <th>engine-type</th>\n",
       "      <th>num-of-cylinders</th>\n",
       "      <th>engine-size</th>\n",
       "      <th>fuel-system</th>\n",
       "      <th>bore</th>\n",
       "      <th>stroke</th>\n",
       "      <th>compression-ratio</th>\n",
       "      <th>horsepower</th>\n",
       "      <th>peak-rpm</th>\n",
       "      <th>city-mpg</th>\n",
       "      <th>highway-mpg</th>\n",
       "      <th>price</th>\n",
       "      <th>volume</th>\n",
       "    </tr>\n",
       "  </thead>\n",
       "  <tbody>\n",
       "    <tr>\n",
       "      <th>0</th>\n",
       "      <td>5</td>\n",
       "      <td>NaN</td>\n",
       "      <td>alfa-romero</td>\n",
       "      <td>gas</td>\n",
       "      <td>std</td>\n",
       "      <td>two</td>\n",
       "      <td>convertible</td>\n",
       "      <td>rwd</td>\n",
       "      <td>front</td>\n",
       "      <td>88.6</td>\n",
       "      <td>2548</td>\n",
       "      <td>dohc</td>\n",
       "      <td>2</td>\n",
       "      <td>130</td>\n",
       "      <td>mpfi</td>\n",
       "      <td>3.47</td>\n",
       "      <td>2.68</td>\n",
       "      <td>9</td>\n",
       "      <td>111.0</td>\n",
       "      <td>5000.0</td>\n",
       "      <td>21</td>\n",
       "      <td>27</td>\n",
       "      <td>13495.0</td>\n",
       "      <td>528019.904</td>\n",
       "    </tr>\n",
       "    <tr>\n",
       "      <th>1</th>\n",
       "      <td>5</td>\n",
       "      <td>NaN</td>\n",
       "      <td>alfa-romero</td>\n",
       "      <td>gas</td>\n",
       "      <td>std</td>\n",
       "      <td>two</td>\n",
       "      <td>convertible</td>\n",
       "      <td>rwd</td>\n",
       "      <td>front</td>\n",
       "      <td>88.6</td>\n",
       "      <td>2548</td>\n",
       "      <td>dohc</td>\n",
       "      <td>2</td>\n",
       "      <td>130</td>\n",
       "      <td>mpfi</td>\n",
       "      <td>3.47</td>\n",
       "      <td>2.68</td>\n",
       "      <td>9</td>\n",
       "      <td>111.0</td>\n",
       "      <td>5000.0</td>\n",
       "      <td>21</td>\n",
       "      <td>27</td>\n",
       "      <td>16500.0</td>\n",
       "      <td>528019.904</td>\n",
       "    </tr>\n",
       "    <tr>\n",
       "      <th>2</th>\n",
       "      <td>3</td>\n",
       "      <td>NaN</td>\n",
       "      <td>alfa-romero</td>\n",
       "      <td>gas</td>\n",
       "      <td>std</td>\n",
       "      <td>two</td>\n",
       "      <td>hatchback</td>\n",
       "      <td>rwd</td>\n",
       "      <td>front</td>\n",
       "      <td>94.5</td>\n",
       "      <td>2823</td>\n",
       "      <td>ohcv</td>\n",
       "      <td>3</td>\n",
       "      <td>152</td>\n",
       "      <td>mpfi</td>\n",
       "      <td>2.68</td>\n",
       "      <td>3.47</td>\n",
       "      <td>9</td>\n",
       "      <td>154.0</td>\n",
       "      <td>5000.0</td>\n",
       "      <td>19</td>\n",
       "      <td>26</td>\n",
       "      <td>16500.0</td>\n",
       "      <td>587592.640</td>\n",
       "    </tr>\n",
       "  </tbody>\n",
       "</table>\n",
       "</div>"
      ],
      "text/plain": [
       "   symboling  normalized-losses         make fuel-type aspiration  \\\n",
       "0          5                NaN  alfa-romero       gas        std   \n",
       "1          5                NaN  alfa-romero       gas        std   \n",
       "2          3                NaN  alfa-romero       gas        std   \n",
       "\n",
       "  num-of-doors   body-style drive-wheels engine-location  wheel-base  \\\n",
       "0          two  convertible          rwd           front        88.6   \n",
       "1          two  convertible          rwd           front        88.6   \n",
       "2          two    hatchback          rwd           front        94.5   \n",
       "\n",
       "   curb-weight engine-type  num-of-cylinders  engine-size fuel-system  bore  \\\n",
       "0         2548        dohc                 2          130        mpfi  3.47   \n",
       "1         2548        dohc                 2          130        mpfi  3.47   \n",
       "2         2823        ohcv                 3          152        mpfi  2.68   \n",
       "\n",
       "   stroke  compression-ratio  horsepower  peak-rpm  city-mpg  highway-mpg  \\\n",
       "0    2.68                  9       111.0    5000.0        21           27   \n",
       "1    2.68                  9       111.0    5000.0        21           27   \n",
       "2    3.47                  9       154.0    5000.0        19           26   \n",
       "\n",
       "     price      volume  \n",
       "0  13495.0  528019.904  \n",
       "1  16500.0  528019.904  \n",
       "2  16500.0  587592.640  "
      ]
     },
     "execution_count": 18,
     "metadata": {},
     "output_type": "execute_result"
    }
   ],
   "source": [
    "car.head(3)"
   ]
  },
  {
   "cell_type": "code",
   "execution_count": 19,
   "metadata": {},
   "outputs": [],
   "source": [
    "car[\"normalized-losses\"]=car.groupby(by=\"symboling\")[\"normalized-losses\"].transform(lambda x:x.fillna(x.mean()))"
   ]
  },
  {
   "cell_type": "code",
   "execution_count": 20,
   "metadata": {},
   "outputs": [],
   "source": [
    "car.dropna(how=\"any\",inplace=True)"
   ]
  },
  {
   "cell_type": "code",
   "execution_count": 21,
   "metadata": {},
   "outputs": [],
   "source": [
    "num=[\"normalized-losses\",\"wheel-base\",\"curb-weight\",\"engine-size\",\"bore\",\"stroke\",\"compression-ratio\",\"horsepower\"\n",
    "     ,\"peak-rpm\",\"city-mpg\",\"highway-mpg\",\"volume\",\"price\"]"
   ]
  },
  {
   "cell_type": "code",
   "execution_count": 22,
   "metadata": {},
   "outputs": [
    {
     "data": {
      "text/plain": [
       "<AxesSubplot:>"
      ]
     },
     "execution_count": 22,
     "metadata": {},
     "output_type": "execute_result"
    },
    {
     "data": {
      "image/png": "[encoded data removed]",
      "text/plain": [
       "<Figure size 792x648 with 2 Axes>"
      ]
     },
     "metadata": {
      "needs_background": "light"
     },
     "output_type": "display_data"
    }
   ],
   "source": [
    "mask=np.zeros_like(car[num].corr())\n",
    "mask[np.triu_indices_from(mask)]=True\n",
    "f,ax=plt.subplots(figsize=(11,9))\n",
    "sns.heatmap(car[num].corr(),mask=mask,cmap=\"YlGnBu\",ax=ax,annot=True)"
   ]
  },
  {
   "cell_type": "markdown",
   "metadata": {},
   "source": [
    "**wheel-base** has strong correlationship with **volume**, so we are going to remove it;\n",
    "**city-mpg** has strong correlationship with **highway-mpg**, we remove it as well;\n",
    "**curb-weight** is strong correlated with **horse-power**,**engine-size** and **volume**, but it also highly correlated with **price**, so I will not remove it this time\n",
    "**stroke** and **compression-ratio** has significant small relationship with **price** , they should be removed"
   ]
  },
  {
   "cell_type": "code",
   "execution_count": 23,
   "metadata": {},
   "outputs": [],
   "source": [
    "numerical=[\"normalized-losses\",\"volume\",\"engine-size\",\"horsepower\",\"curb-weight\",\"bore\",\"highway-mpg\",\"peak-rpm\"]"
   ]
  },
  {
   "cell_type": "code",
   "execution_count": 24,
   "metadata": {},
   "outputs": [],
   "source": [
    "from sklearn.preprocessing import MinMaxScaler\n",
    "scaler=MinMaxScaler()\n",
    "car[numerical]=scaler.fit_transform(car[numerical])"
   ]
  },
  {
   "cell_type": "code",
   "execution_count": 25,
   "metadata": {},
   "outputs": [],
   "source": [
    "car.drop([\"num-of-doors\"],axis=1,inplace=True)"
   ]
  },
  {
   "cell_type": "code",
   "execution_count": 26,
   "metadata": {},
   "outputs": [],
   "source": [
    "categorical=[\"make\",\"fuel-type\",\"aspiration\",\"body-style\",\"drive-wheels\",\"engine-location\",\"engine-type\",\"fuel-system\"]"
   ]
  },
  {
   "cell_type": "code",
   "execution_count": 27,
   "metadata": {},
   "outputs": [],
   "source": [
    "dummies=pd.get_dummies(car[categorical])\n",
    "car=car.join(dummies).drop(categorical,axis=1)"
   ]
  },
  {
   "cell_type": "code",
   "execution_count": 28,
   "metadata": {},
   "outputs": [],
   "source": [
    "car.drop([\"stroke\",\"compression-ratio\",\"city-mpg\"],axis=1,inplace=True)\n",
    "car.drop([\"wheel-base\"],axis=1,inplace=True)"
   ]
  },
  {
   "cell_type": "markdown",
   "metadata": {},
   "source": [
    "#### 似乎cross_val_score不会对数据进行随机化，这在相似数据分组在一起时可能导致更糟的预测。我找到的最简单的解决方案（通过此答案）是在运行模型之前简单地对数据帧进行洗牌"
   ]
  },
  {
   "cell_type": "code",
   "execution_count": 37,
   "metadata": {},
   "outputs": [],
   "source": [
    "shuffled_car = car.reindex(np.random.permutation(car.index))"
   ]
  },
  {
   "cell_type": "code",
   "execution_count": 38,
   "metadata": {},
   "outputs": [
    {
     "data": {
      "text/html": [
       "<div>\n",
       "<style scoped>\n",
       "    .dataframe tbody tr th:only-of-type {\n",
       "        vertical-align: middle;\n",
       "    }\n",
       "\n",
       "    .dataframe tbody tr th {\n",
       "        vertical-align: top;\n",
       "    }\n",
       "\n",
       "    .dataframe thead th {\n",
       "        text-align: right;\n",
       "    }\n",
       "</style>\n",
       "<table border=\"1\" class=\"dataframe\">\n",
       "  <thead>\n",
       "    <tr style=\"text-align: right;\">\n",
       "      <th></th>\n",
       "      <th>symboling</th>\n",
       "      <th>normalized-losses</th>\n",
       "      <th>curb-weight</th>\n",
       "      <th>num-of-cylinders</th>\n",
       "      <th>engine-size</th>\n",
       "      <th>bore</th>\n",
       "      <th>horsepower</th>\n",
       "      <th>peak-rpm</th>\n",
       "      <th>highway-mpg</th>\n",
       "      <th>price</th>\n",
       "      <th>volume</th>\n",
       "      <th>make_alfa-romero</th>\n",
       "      <th>make_audi</th>\n",
       "      <th>make_bmw</th>\n",
       "      <th>make_chevrolet</th>\n",
       "      <th>make_dodge</th>\n",
       "      <th>make_honda</th>\n",
       "      <th>make_isuzu</th>\n",
       "      <th>make_jaguar</th>\n",
       "      <th>make_mazda</th>\n",
       "      <th>make_mercedes-benz</th>\n",
       "      <th>make_mercury</th>\n",
       "      <th>make_mitsubishi</th>\n",
       "      <th>make_nissan</th>\n",
       "      <th>make_peugot</th>\n",
       "      <th>make_plymouth</th>\n",
       "      <th>make_porsche</th>\n",
       "      <th>make_saab</th>\n",
       "      <th>make_subaru</th>\n",
       "      <th>make_toyota</th>\n",
       "      <th>make_volkswagen</th>\n",
       "      <th>make_volvo</th>\n",
       "      <th>fuel-type_diesel</th>\n",
       "      <th>fuel-type_gas</th>\n",
       "      <th>aspiration_std</th>\n",
       "      <th>aspiration_turbo</th>\n",
       "      <th>body-style_convertible</th>\n",
       "      <th>body-style_hardtop</th>\n",
       "      <th>body-style_hatchback</th>\n",
       "      <th>body-style_sedan</th>\n",
       "      <th>body-style_wagon</th>\n",
       "      <th>drive-wheels_4wd</th>\n",
       "      <th>drive-wheels_fwd</th>\n",
       "      <th>drive-wheels_rwd</th>\n",
       "      <th>engine-location_front</th>\n",
       "      <th>engine-location_rear</th>\n",
       "      <th>engine-type_dohc</th>\n",
       "      <th>engine-type_l</th>\n",
       "      <th>engine-type_ohc</th>\n",
       "      <th>engine-type_ohcf</th>\n",
       "      <th>engine-type_ohcv</th>\n",
       "      <th>fuel-system_1bbl</th>\n",
       "      <th>fuel-system_2bbl</th>\n",
       "      <th>fuel-system_idi</th>\n",
       "      <th>fuel-system_mfi</th>\n",
       "      <th>fuel-system_mpfi</th>\n",
       "      <th>fuel-system_spdi</th>\n",
       "      <th>fuel-system_spfi</th>\n",
       "    </tr>\n",
       "  </thead>\n",
       "  <tbody>\n",
       "    <tr>\n",
       "      <th>35</th>\n",
       "      <td>2</td>\n",
       "      <td>0.235602</td>\n",
       "      <td>0.202483</td>\n",
       "      <td>2</td>\n",
       "      <td>0.116981</td>\n",
       "      <td>0.264286</td>\n",
       "      <td>0.130841</td>\n",
       "      <td>0.755102</td>\n",
       "      <td>0.473684</td>\n",
       "      <td>7295.0</td>\n",
       "      <td>0.298187</td>\n",
       "      <td>0</td>\n",
       "      <td>0</td>\n",
       "      <td>0</td>\n",
       "      <td>0</td>\n",
       "      <td>0</td>\n",
       "      <td>1</td>\n",
       "      <td>0</td>\n",
       "      <td>0</td>\n",
       "      <td>0</td>\n",
       "      <td>0</td>\n",
       "      <td>0</td>\n",
       "      <td>0</td>\n",
       "      <td>0</td>\n",
       "      <td>0</td>\n",
       "      <td>0</td>\n",
       "      <td>0</td>\n",
       "      <td>0</td>\n",
       "      <td>0</td>\n",
       "      <td>0</td>\n",
       "      <td>0</td>\n",
       "      <td>0</td>\n",
       "      <td>0</td>\n",
       "      <td>1</td>\n",
       "      <td>1</td>\n",
       "      <td>0</td>\n",
       "      <td>0</td>\n",
       "      <td>0</td>\n",
       "      <td>0</td>\n",
       "      <td>1</td>\n",
       "      <td>0</td>\n",
       "      <td>0</td>\n",
       "      <td>1</td>\n",
       "      <td>0</td>\n",
       "      <td>1</td>\n",
       "      <td>0</td>\n",
       "      <td>0</td>\n",
       "      <td>0</td>\n",
       "      <td>1</td>\n",
       "      <td>0</td>\n",
       "      <td>0</td>\n",
       "      <td>1</td>\n",
       "      <td>0</td>\n",
       "      <td>0</td>\n",
       "      <td>0</td>\n",
       "      <td>0</td>\n",
       "      <td>0</td>\n",
       "      <td>0</td>\n",
       "    </tr>\n",
       "    <tr>\n",
       "      <th>102</th>\n",
       "      <td>2</td>\n",
       "      <td>0.225131</td>\n",
       "      <td>0.701319</td>\n",
       "      <td>3</td>\n",
       "      <td>0.452830</td>\n",
       "      <td>0.635714</td>\n",
       "      <td>0.485981</td>\n",
       "      <td>0.428571</td>\n",
       "      <td>0.157895</td>\n",
       "      <td>14399.0</td>\n",
       "      <td>0.600041</td>\n",
       "      <td>0</td>\n",
       "      <td>0</td>\n",
       "      <td>0</td>\n",
       "      <td>0</td>\n",
       "      <td>0</td>\n",
       "      <td>0</td>\n",
       "      <td>0</td>\n",
       "      <td>0</td>\n",
       "      <td>0</td>\n",
       "      <td>0</td>\n",
       "      <td>0</td>\n",
       "      <td>0</td>\n",
       "      <td>1</td>\n",
       "      <td>0</td>\n",
       "      <td>0</td>\n",
       "      <td>0</td>\n",
       "      <td>0</td>\n",
       "      <td>0</td>\n",
       "      <td>0</td>\n",
       "      <td>0</td>\n",
       "      <td>0</td>\n",
       "      <td>0</td>\n",
       "      <td>1</td>\n",
       "      <td>1</td>\n",
       "      <td>0</td>\n",
       "      <td>0</td>\n",
       "      <td>0</td>\n",
       "      <td>0</td>\n",
       "      <td>0</td>\n",
       "      <td>1</td>\n",
       "      <td>0</td>\n",
       "      <td>1</td>\n",
       "      <td>0</td>\n",
       "      <td>1</td>\n",
       "      <td>0</td>\n",
       "      <td>0</td>\n",
       "      <td>0</td>\n",
       "      <td>0</td>\n",
       "      <td>0</td>\n",
       "      <td>1</td>\n",
       "      <td>0</td>\n",
       "      <td>0</td>\n",
       "      <td>0</td>\n",
       "      <td>0</td>\n",
       "      <td>1</td>\n",
       "      <td>0</td>\n",
       "      <td>0</td>\n",
       "    </tr>\n",
       "    <tr>\n",
       "      <th>167</th>\n",
       "      <td>4</td>\n",
       "      <td>0.361257</td>\n",
       "      <td>0.408068</td>\n",
       "      <td>2</td>\n",
       "      <td>0.320755</td>\n",
       "      <td>0.771429</td>\n",
       "      <td>0.317757</td>\n",
       "      <td>0.265306</td>\n",
       "      <td>0.368421</td>\n",
       "      <td>8449.0</td>\n",
       "      <td>0.377284</td>\n",
       "      <td>0</td>\n",
       "      <td>0</td>\n",
       "      <td>0</td>\n",
       "      <td>0</td>\n",
       "      <td>0</td>\n",
       "      <td>0</td>\n",
       "      <td>0</td>\n",
       "      <td>0</td>\n",
       "      <td>0</td>\n",
       "      <td>0</td>\n",
       "      <td>0</td>\n",
       "      <td>0</td>\n",
       "      <td>0</td>\n",
       "      <td>0</td>\n",
       "      <td>0</td>\n",
       "      <td>0</td>\n",
       "      <td>0</td>\n",
       "      <td>0</td>\n",
       "      <td>1</td>\n",
       "      <td>0</td>\n",
       "      <td>0</td>\n",
       "      <td>0</td>\n",
       "      <td>1</td>\n",
       "      <td>1</td>\n",
       "      <td>0</td>\n",
       "      <td>0</td>\n",
       "      <td>1</td>\n",
       "      <td>0</td>\n",
       "      <td>0</td>\n",
       "      <td>0</td>\n",
       "      <td>0</td>\n",
       "      <td>0</td>\n",
       "      <td>1</td>\n",
       "      <td>1</td>\n",
       "      <td>0</td>\n",
       "      <td>0</td>\n",
       "      <td>0</td>\n",
       "      <td>1</td>\n",
       "      <td>0</td>\n",
       "      <td>0</td>\n",
       "      <td>0</td>\n",
       "      <td>0</td>\n",
       "      <td>0</td>\n",
       "      <td>0</td>\n",
       "      <td>1</td>\n",
       "      <td>0</td>\n",
       "      <td>0</td>\n",
       "    </tr>\n",
       "    <tr>\n",
       "      <th>32</th>\n",
       "      <td>3</td>\n",
       "      <td>0.188482</td>\n",
       "      <td>0.135376</td>\n",
       "      <td>2</td>\n",
       "      <td>0.067925</td>\n",
       "      <td>0.264286</td>\n",
       "      <td>0.056075</td>\n",
       "      <td>0.551020</td>\n",
       "      <td>0.684211</td>\n",
       "      <td>5399.0</td>\n",
       "      <td>0.132998</td>\n",
       "      <td>0</td>\n",
       "      <td>0</td>\n",
       "      <td>0</td>\n",
       "      <td>0</td>\n",
       "      <td>0</td>\n",
       "      <td>1</td>\n",
       "      <td>0</td>\n",
       "      <td>0</td>\n",
       "      <td>0</td>\n",
       "      <td>0</td>\n",
       "      <td>0</td>\n",
       "      <td>0</td>\n",
       "      <td>0</td>\n",
       "      <td>0</td>\n",
       "      <td>0</td>\n",
       "      <td>0</td>\n",
       "      <td>0</td>\n",
       "      <td>0</td>\n",
       "      <td>0</td>\n",
       "      <td>0</td>\n",
       "      <td>0</td>\n",
       "      <td>0</td>\n",
       "      <td>1</td>\n",
       "      <td>1</td>\n",
       "      <td>0</td>\n",
       "      <td>0</td>\n",
       "      <td>0</td>\n",
       "      <td>1</td>\n",
       "      <td>0</td>\n",
       "      <td>0</td>\n",
       "      <td>0</td>\n",
       "      <td>1</td>\n",
       "      <td>0</td>\n",
       "      <td>1</td>\n",
       "      <td>0</td>\n",
       "      <td>0</td>\n",
       "      <td>0</td>\n",
       "      <td>1</td>\n",
       "      <td>0</td>\n",
       "      <td>0</td>\n",
       "      <td>1</td>\n",
       "      <td>0</td>\n",
       "      <td>0</td>\n",
       "      <td>0</td>\n",
       "      <td>0</td>\n",
       "      <td>0</td>\n",
       "      <td>0</td>\n",
       "    </tr>\n",
       "    <tr>\n",
       "      <th>178</th>\n",
       "      <td>5</td>\n",
       "      <td>0.691099</td>\n",
       "      <td>0.577192</td>\n",
       "      <td>3</td>\n",
       "      <td>0.415094</td>\n",
       "      <td>0.521429</td>\n",
       "      <td>0.528037</td>\n",
       "      <td>0.428571</td>\n",
       "      <td>0.210526</td>\n",
       "      <td>16558.0</td>\n",
       "      <td>0.491529</td>\n",
       "      <td>0</td>\n",
       "      <td>0</td>\n",
       "      <td>0</td>\n",
       "      <td>0</td>\n",
       "      <td>0</td>\n",
       "      <td>0</td>\n",
       "      <td>0</td>\n",
       "      <td>0</td>\n",
       "      <td>0</td>\n",
       "      <td>0</td>\n",
       "      <td>0</td>\n",
       "      <td>0</td>\n",
       "      <td>0</td>\n",
       "      <td>0</td>\n",
       "      <td>0</td>\n",
       "      <td>0</td>\n",
       "      <td>0</td>\n",
       "      <td>0</td>\n",
       "      <td>1</td>\n",
       "      <td>0</td>\n",
       "      <td>0</td>\n",
       "      <td>0</td>\n",
       "      <td>1</td>\n",
       "      <td>1</td>\n",
       "      <td>0</td>\n",
       "      <td>0</td>\n",
       "      <td>0</td>\n",
       "      <td>1</td>\n",
       "      <td>0</td>\n",
       "      <td>0</td>\n",
       "      <td>0</td>\n",
       "      <td>0</td>\n",
       "      <td>1</td>\n",
       "      <td>1</td>\n",
       "      <td>0</td>\n",
       "      <td>1</td>\n",
       "      <td>0</td>\n",
       "      <td>0</td>\n",
       "      <td>0</td>\n",
       "      <td>0</td>\n",
       "      <td>0</td>\n",
       "      <td>0</td>\n",
       "      <td>0</td>\n",
       "      <td>0</td>\n",
       "      <td>1</td>\n",
       "      <td>0</td>\n",
       "      <td>0</td>\n",
       "    </tr>\n",
       "  </tbody>\n",
       "</table>\n",
       "</div>"
      ],
      "text/plain": [
       "     symboling  normalized-losses  curb-weight  num-of-cylinders  engine-size  \\\n",
       "35           2           0.235602     0.202483                 2     0.116981   \n",
       "102          2           0.225131     0.701319                 3     0.452830   \n",
       "167          4           0.361257     0.408068                 2     0.320755   \n",
       "32           3           0.188482     0.135376                 2     0.067925   \n",
       "178          5           0.691099     0.577192                 3     0.415094   \n",
       "\n",
       "         bore  horsepower  peak-rpm  highway-mpg    price    volume  \\\n",
       "35   0.264286    0.130841  0.755102     0.473684   7295.0  0.298187   \n",
       "102  0.635714    0.485981  0.428571     0.157895  14399.0  0.600041   \n",
       "167  0.771429    0.317757  0.265306     0.368421   8449.0  0.377284   \n",
       "32   0.264286    0.056075  0.551020     0.684211   5399.0  0.132998   \n",
       "178  0.521429    0.528037  0.428571     0.210526  16558.0  0.491529   \n",
       "\n",
       "     make_alfa-romero  make_audi  make_bmw  make_chevrolet  make_dodge  \\\n",
       "35                  0          0         0               0           0   \n",
       "102                 0          0         0               0           0   \n",
       "167                 0          0         0               0           0   \n",
       "32                  0          0         0               0           0   \n",
       "178                 0          0         0               0           0   \n",
       "\n",
       "     make_honda  make_isuzu  make_jaguar  make_mazda  make_mercedes-benz  \\\n",
       "35            1           0            0           0                   0   \n",
       "102           0           0            0           0                   0   \n",
       "167           0           0            0           0                   0   \n",
       "32            1           0            0           0                   0   \n",
       "178           0           0            0           0                   0   \n",
       "\n",
       "     make_mercury  make_mitsubishi  make_nissan  make_peugot  make_plymouth  \\\n",
       "35              0                0            0            0              0   \n",
       "102             0                0            1            0              0   \n",
       "167             0                0            0            0              0   \n",
       "32              0                0            0            0              0   \n",
       "178             0                0            0            0              0   \n",
       "\n",
       "     make_porsche  make_saab  make_subaru  make_toyota  make_volkswagen  \\\n",
       "35              0          0            0            0                0   \n",
       "102             0          0            0            0                0   \n",
       "167             0          0            0            1                0   \n",
       "32              0          0            0            0                0   \n",
       "178             0          0            0            1                0   \n",
       "\n",
       "     make_volvo  fuel-type_diesel  fuel-type_gas  aspiration_std  \\\n",
       "35            0                 0              1               1   \n",
       "102           0                 0              1               1   \n",
       "167           0                 0              1               1   \n",
       "32            0                 0              1               1   \n",
       "178           0                 0              1               1   \n",
       "\n",
       "     aspiration_turbo  body-style_convertible  body-style_hardtop  \\\n",
       "35                  0                       0                   0   \n",
       "102                 0                       0                   0   \n",
       "167                 0                       0                   1   \n",
       "32                  0                       0                   0   \n",
       "178                 0                       0                   0   \n",
       "\n",
       "     body-style_hatchback  body-style_sedan  body-style_wagon  \\\n",
       "35                      0                 1                 0   \n",
       "102                     0                 0                 1   \n",
       "167                     0                 0                 0   \n",
       "32                      1                 0                 0   \n",
       "178                     1                 0                 0   \n",
       "\n",
       "     drive-wheels_4wd  drive-wheels_fwd  drive-wheels_rwd  \\\n",
       "35                  0                 1                 0   \n",
       "102                 0                 1                 0   \n",
       "167                 0                 0                 1   \n",
       "32                  0                 1                 0   \n",
       "178                 0                 0                 1   \n",
       "\n",
       "     engine-location_front  engine-location_rear  engine-type_dohc  \\\n",
       "35                       1                     0                 0   \n",
       "102                      1                     0                 0   \n",
       "167                      1                     0                 0   \n",
       "32                       1                     0                 0   \n",
       "178                      1                     0                 1   \n",
       "\n",
       "     engine-type_l  engine-type_ohc  engine-type_ohcf  engine-type_ohcv  \\\n",
       "35               0                1                 0                 0   \n",
       "102              0                0                 0                 1   \n",
       "167              0                1                 0                 0   \n",
       "32               0                1                 0                 0   \n",
       "178              0                0                 0                 0   \n",
       "\n",
       "     fuel-system_1bbl  fuel-system_2bbl  fuel-system_idi  fuel-system_mfi  \\\n",
       "35                  1                 0                0                0   \n",
       "102                 0                 0                0                0   \n",
       "167                 0                 0                0                0   \n",
       "32                  1                 0                0                0   \n",
       "178                 0                 0                0                0   \n",
       "\n",
       "     fuel-system_mpfi  fuel-system_spdi  fuel-system_spfi  \n",
       "35                  0                 0                 0  \n",
       "102                 1                 0                 0  \n",
       "167                 1                 0                 0  \n",
       "32                  0                 0                 0  \n",
       "178                 1                 0                 0  "
      ]
     },
     "execution_count": 38,
     "metadata": {},
     "output_type": "execute_result"
    }
   ],
   "source": [
    "shuffled_car.head()"
   ]
  },
  {
   "cell_type": "code",
   "execution_count": 39,
   "metadata": {},
   "outputs": [],
   "source": [
    "X=shuffled_car.drop([\"price\"],axis=1)\n",
    "y=shuffled_car[\"price\"]"
   ]
  },
  {
   "cell_type": "markdown",
   "metadata": {},
   "source": [
    "# Modeling"
   ]
  },
  {
   "cell_type": "markdown",
   "metadata": {},
   "source": [
    "### Linear Regression"
   ]
  },
  {
   "cell_type": "code",
   "execution_count": 40,
   "metadata": {},
   "outputs": [
    {
     "data": {
      "text/html": [
       "<div>\n",
       "<style scoped>\n",
       "    .dataframe tbody tr th:only-of-type {\n",
       "        vertical-align: middle;\n",
       "    }\n",
       "\n",
       "    .dataframe tbody tr th {\n",
       "        vertical-align: top;\n",
       "    }\n",
       "\n",
       "    .dataframe thead th {\n",
       "        text-align: right;\n",
       "    }\n",
       "</style>\n",
       "<table border=\"1\" class=\"dataframe\">\n",
       "  <thead>\n",
       "    <tr style=\"text-align: right;\">\n",
       "      <th></th>\n",
       "      <th>symboling</th>\n",
       "      <th>normalized-losses</th>\n",
       "      <th>curb-weight</th>\n",
       "      <th>num-of-cylinders</th>\n",
       "      <th>engine-size</th>\n",
       "      <th>bore</th>\n",
       "      <th>horsepower</th>\n",
       "      <th>peak-rpm</th>\n",
       "      <th>highway-mpg</th>\n",
       "      <th>volume</th>\n",
       "      <th>make_alfa-romero</th>\n",
       "      <th>make_audi</th>\n",
       "      <th>make_bmw</th>\n",
       "      <th>make_chevrolet</th>\n",
       "      <th>make_dodge</th>\n",
       "      <th>make_honda</th>\n",
       "      <th>make_isuzu</th>\n",
       "      <th>make_jaguar</th>\n",
       "      <th>make_mazda</th>\n",
       "      <th>make_mercedes-benz</th>\n",
       "      <th>make_mercury</th>\n",
       "      <th>make_mitsubishi</th>\n",
       "      <th>make_nissan</th>\n",
       "      <th>make_peugot</th>\n",
       "      <th>make_plymouth</th>\n",
       "      <th>make_porsche</th>\n",
       "      <th>make_saab</th>\n",
       "      <th>make_subaru</th>\n",
       "      <th>make_toyota</th>\n",
       "      <th>make_volkswagen</th>\n",
       "      <th>make_volvo</th>\n",
       "      <th>fuel-type_diesel</th>\n",
       "      <th>fuel-type_gas</th>\n",
       "      <th>aspiration_std</th>\n",
       "      <th>aspiration_turbo</th>\n",
       "      <th>body-style_convertible</th>\n",
       "      <th>body-style_hardtop</th>\n",
       "      <th>body-style_hatchback</th>\n",
       "      <th>body-style_sedan</th>\n",
       "      <th>body-style_wagon</th>\n",
       "      <th>drive-wheels_4wd</th>\n",
       "      <th>drive-wheels_fwd</th>\n",
       "      <th>drive-wheels_rwd</th>\n",
       "      <th>engine-location_front</th>\n",
       "      <th>engine-location_rear</th>\n",
       "      <th>engine-type_dohc</th>\n",
       "      <th>engine-type_l</th>\n",
       "      <th>engine-type_ohc</th>\n",
       "      <th>engine-type_ohcf</th>\n",
       "      <th>engine-type_ohcv</th>\n",
       "      <th>fuel-system_1bbl</th>\n",
       "      <th>fuel-system_2bbl</th>\n",
       "      <th>fuel-system_idi</th>\n",
       "      <th>fuel-system_mfi</th>\n",
       "      <th>fuel-system_mpfi</th>\n",
       "      <th>fuel-system_spdi</th>\n",
       "      <th>fuel-system_spfi</th>\n",
       "    </tr>\n",
       "  </thead>\n",
       "  <tbody>\n",
       "    <tr>\n",
       "      <th>35</th>\n",
       "      <td>2</td>\n",
       "      <td>0.235602</td>\n",
       "      <td>0.202483</td>\n",
       "      <td>2</td>\n",
       "      <td>0.116981</td>\n",
       "      <td>0.264286</td>\n",
       "      <td>0.130841</td>\n",
       "      <td>0.755102</td>\n",
       "      <td>0.473684</td>\n",
       "      <td>0.298187</td>\n",
       "      <td>0</td>\n",
       "      <td>0</td>\n",
       "      <td>0</td>\n",
       "      <td>0</td>\n",
       "      <td>0</td>\n",
       "      <td>1</td>\n",
       "      <td>0</td>\n",
       "      <td>0</td>\n",
       "      <td>0</td>\n",
       "      <td>0</td>\n",
       "      <td>0</td>\n",
       "      <td>0</td>\n",
       "      <td>0</td>\n",
       "      <td>0</td>\n",
       "      <td>0</td>\n",
       "      <td>0</td>\n",
       "      <td>0</td>\n",
       "      <td>0</td>\n",
       "      <td>0</td>\n",
       "      <td>0</td>\n",
       "      <td>0</td>\n",
       "      <td>0</td>\n",
       "      <td>1</td>\n",
       "      <td>1</td>\n",
       "      <td>0</td>\n",
       "      <td>0</td>\n",
       "      <td>0</td>\n",
       "      <td>0</td>\n",
       "      <td>1</td>\n",
       "      <td>0</td>\n",
       "      <td>0</td>\n",
       "      <td>1</td>\n",
       "      <td>0</td>\n",
       "      <td>1</td>\n",
       "      <td>0</td>\n",
       "      <td>0</td>\n",
       "      <td>0</td>\n",
       "      <td>1</td>\n",
       "      <td>0</td>\n",
       "      <td>0</td>\n",
       "      <td>1</td>\n",
       "      <td>0</td>\n",
       "      <td>0</td>\n",
       "      <td>0</td>\n",
       "      <td>0</td>\n",
       "      <td>0</td>\n",
       "      <td>0</td>\n",
       "    </tr>\n",
       "    <tr>\n",
       "      <th>102</th>\n",
       "      <td>2</td>\n",
       "      <td>0.225131</td>\n",
       "      <td>0.701319</td>\n",
       "      <td>3</td>\n",
       "      <td>0.452830</td>\n",
       "      <td>0.635714</td>\n",
       "      <td>0.485981</td>\n",
       "      <td>0.428571</td>\n",
       "      <td>0.157895</td>\n",
       "      <td>0.600041</td>\n",
       "      <td>0</td>\n",
       "      <td>0</td>\n",
       "      <td>0</td>\n",
       "      <td>0</td>\n",
       "      <td>0</td>\n",
       "      <td>0</td>\n",
       "      <td>0</td>\n",
       "      <td>0</td>\n",
       "      <td>0</td>\n",
       "      <td>0</td>\n",
       "      <td>0</td>\n",
       "      <td>0</td>\n",
       "      <td>1</td>\n",
       "      <td>0</td>\n",
       "      <td>0</td>\n",
       "      <td>0</td>\n",
       "      <td>0</td>\n",
       "      <td>0</td>\n",
       "      <td>0</td>\n",
       "      <td>0</td>\n",
       "      <td>0</td>\n",
       "      <td>0</td>\n",
       "      <td>1</td>\n",
       "      <td>1</td>\n",
       "      <td>0</td>\n",
       "      <td>0</td>\n",
       "      <td>0</td>\n",
       "      <td>0</td>\n",
       "      <td>0</td>\n",
       "      <td>1</td>\n",
       "      <td>0</td>\n",
       "      <td>1</td>\n",
       "      <td>0</td>\n",
       "      <td>1</td>\n",
       "      <td>0</td>\n",
       "      <td>0</td>\n",
       "      <td>0</td>\n",
       "      <td>0</td>\n",
       "      <td>0</td>\n",
       "      <td>1</td>\n",
       "      <td>0</td>\n",
       "      <td>0</td>\n",
       "      <td>0</td>\n",
       "      <td>0</td>\n",
       "      <td>1</td>\n",
       "      <td>0</td>\n",
       "      <td>0</td>\n",
       "    </tr>\n",
       "    <tr>\n",
       "      <th>167</th>\n",
       "      <td>4</td>\n",
       "      <td>0.361257</td>\n",
       "      <td>0.408068</td>\n",
       "      <td>2</td>\n",
       "      <td>0.320755</td>\n",
       "      <td>0.771429</td>\n",
       "      <td>0.317757</td>\n",
       "      <td>0.265306</td>\n",
       "      <td>0.368421</td>\n",
       "      <td>0.377284</td>\n",
       "      <td>0</td>\n",
       "      <td>0</td>\n",
       "      <td>0</td>\n",
       "      <td>0</td>\n",
       "      <td>0</td>\n",
       "      <td>0</td>\n",
       "      <td>0</td>\n",
       "      <td>0</td>\n",
       "      <td>0</td>\n",
       "      <td>0</td>\n",
       "      <td>0</td>\n",
       "      <td>0</td>\n",
       "      <td>0</td>\n",
       "      <td>0</td>\n",
       "      <td>0</td>\n",
       "      <td>0</td>\n",
       "      <td>0</td>\n",
       "      <td>0</td>\n",
       "      <td>1</td>\n",
       "      <td>0</td>\n",
       "      <td>0</td>\n",
       "      <td>0</td>\n",
       "      <td>1</td>\n",
       "      <td>1</td>\n",
       "      <td>0</td>\n",
       "      <td>0</td>\n",
       "      <td>1</td>\n",
       "      <td>0</td>\n",
       "      <td>0</td>\n",
       "      <td>0</td>\n",
       "      <td>0</td>\n",
       "      <td>0</td>\n",
       "      <td>1</td>\n",
       "      <td>1</td>\n",
       "      <td>0</td>\n",
       "      <td>0</td>\n",
       "      <td>0</td>\n",
       "      <td>1</td>\n",
       "      <td>0</td>\n",
       "      <td>0</td>\n",
       "      <td>0</td>\n",
       "      <td>0</td>\n",
       "      <td>0</td>\n",
       "      <td>0</td>\n",
       "      <td>1</td>\n",
       "      <td>0</td>\n",
       "      <td>0</td>\n",
       "    </tr>\n",
       "    <tr>\n",
       "      <th>32</th>\n",
       "      <td>3</td>\n",
       "      <td>0.188482</td>\n",
       "      <td>0.135376</td>\n",
       "      <td>2</td>\n",
       "      <td>0.067925</td>\n",
       "      <td>0.264286</td>\n",
       "      <td>0.056075</td>\n",
       "      <td>0.551020</td>\n",
       "      <td>0.684211</td>\n",
       "      <td>0.132998</td>\n",
       "      <td>0</td>\n",
       "      <td>0</td>\n",
       "      <td>0</td>\n",
       "      <td>0</td>\n",
       "      <td>0</td>\n",
       "      <td>1</td>\n",
       "      <td>0</td>\n",
       "      <td>0</td>\n",
       "      <td>0</td>\n",
       "      <td>0</td>\n",
       "      <td>0</td>\n",
       "      <td>0</td>\n",
       "      <td>0</td>\n",
       "      <td>0</td>\n",
       "      <td>0</td>\n",
       "      <td>0</td>\n",
       "      <td>0</td>\n",
       "      <td>0</td>\n",
       "      <td>0</td>\n",
       "      <td>0</td>\n",
       "      <td>0</td>\n",
       "      <td>0</td>\n",
       "      <td>1</td>\n",
       "      <td>1</td>\n",
       "      <td>0</td>\n",
       "      <td>0</td>\n",
       "      <td>0</td>\n",
       "      <td>1</td>\n",
       "      <td>0</td>\n",
       "      <td>0</td>\n",
       "      <td>0</td>\n",
       "      <td>1</td>\n",
       "      <td>0</td>\n",
       "      <td>1</td>\n",
       "      <td>0</td>\n",
       "      <td>0</td>\n",
       "      <td>0</td>\n",
       "      <td>1</td>\n",
       "      <td>0</td>\n",
       "      <td>0</td>\n",
       "      <td>1</td>\n",
       "      <td>0</td>\n",
       "      <td>0</td>\n",
       "      <td>0</td>\n",
       "      <td>0</td>\n",
       "      <td>0</td>\n",
       "      <td>0</td>\n",
       "    </tr>\n",
       "    <tr>\n",
       "      <th>178</th>\n",
       "      <td>5</td>\n",
       "      <td>0.691099</td>\n",
       "      <td>0.577192</td>\n",
       "      <td>3</td>\n",
       "      <td>0.415094</td>\n",
       "      <td>0.521429</td>\n",
       "      <td>0.528037</td>\n",
       "      <td>0.428571</td>\n",
       "      <td>0.210526</td>\n",
       "      <td>0.491529</td>\n",
       "      <td>0</td>\n",
       "      <td>0</td>\n",
       "      <td>0</td>\n",
       "      <td>0</td>\n",
       "      <td>0</td>\n",
       "      <td>0</td>\n",
       "      <td>0</td>\n",
       "      <td>0</td>\n",
       "      <td>0</td>\n",
       "      <td>0</td>\n",
       "      <td>0</td>\n",
       "      <td>0</td>\n",
       "      <td>0</td>\n",
       "      <td>0</td>\n",
       "      <td>0</td>\n",
       "      <td>0</td>\n",
       "      <td>0</td>\n",
       "      <td>0</td>\n",
       "      <td>1</td>\n",
       "      <td>0</td>\n",
       "      <td>0</td>\n",
       "      <td>0</td>\n",
       "      <td>1</td>\n",
       "      <td>1</td>\n",
       "      <td>0</td>\n",
       "      <td>0</td>\n",
       "      <td>0</td>\n",
       "      <td>1</td>\n",
       "      <td>0</td>\n",
       "      <td>0</td>\n",
       "      <td>0</td>\n",
       "      <td>0</td>\n",
       "      <td>1</td>\n",
       "      <td>1</td>\n",
       "      <td>0</td>\n",
       "      <td>1</td>\n",
       "      <td>0</td>\n",
       "      <td>0</td>\n",
       "      <td>0</td>\n",
       "      <td>0</td>\n",
       "      <td>0</td>\n",
       "      <td>0</td>\n",
       "      <td>0</td>\n",
       "      <td>0</td>\n",
       "      <td>1</td>\n",
       "      <td>0</td>\n",
       "      <td>0</td>\n",
       "    </tr>\n",
       "  </tbody>\n",
       "</table>\n",
       "</div>"
      ],
      "text/plain": [
       "     symboling  normalized-losses  curb-weight  num-of-cylinders  engine-size  \\\n",
       "35           2           0.235602     0.202483                 2     0.116981   \n",
       "102          2           0.225131     0.701319                 3     0.452830   \n",
       "167          4           0.361257     0.408068                 2     0.320755   \n",
       "32           3           0.188482     0.135376                 2     0.067925   \n",
       "178          5           0.691099     0.577192                 3     0.415094   \n",
       "\n",
       "         bore  horsepower  peak-rpm  highway-mpg    volume  make_alfa-romero  \\\n",
       "35   0.264286    0.130841  0.755102     0.473684  0.298187                 0   \n",
       "102  0.635714    0.485981  0.428571     0.157895  0.600041                 0   \n",
       "167  0.771429    0.317757  0.265306     0.368421  0.377284                 0   \n",
       "32   0.264286    0.056075  0.551020     0.684211  0.132998                 0   \n",
       "178  0.521429    0.528037  0.428571     0.210526  0.491529                 0   \n",
       "\n",
       "     make_audi  make_bmw  make_chevrolet  make_dodge  make_honda  make_isuzu  \\\n",
       "35           0         0               0           0           1           0   \n",
       "102          0         0               0           0           0           0   \n",
       "167          0         0               0           0           0           0   \n",
       "32           0         0               0           0           1           0   \n",
       "178          0         0               0           0           0           0   \n",
       "\n",
       "     make_jaguar  make_mazda  make_mercedes-benz  make_mercury  \\\n",
       "35             0           0                   0             0   \n",
       "102            0           0                   0             0   \n",
       "167            0           0                   0             0   \n",
       "32             0           0                   0             0   \n",
       "178            0           0                   0             0   \n",
       "\n",
       "     make_mitsubishi  make_nissan  make_peugot  make_plymouth  make_porsche  \\\n",
       "35                 0            0            0              0             0   \n",
       "102                0            1            0              0             0   \n",
       "167                0            0            0              0             0   \n",
       "32                 0            0            0              0             0   \n",
       "178                0            0            0              0             0   \n",
       "\n",
       "     make_saab  make_subaru  make_toyota  make_volkswagen  make_volvo  \\\n",
       "35           0            0            0                0           0   \n",
       "102          0            0            0                0           0   \n",
       "167          0            0            1                0           0   \n",
       "32           0            0            0                0           0   \n",
       "178          0            0            1                0           0   \n",
       "\n",
       "     fuel-type_diesel  fuel-type_gas  aspiration_std  aspiration_turbo  \\\n",
       "35                  0              1               1                 0   \n",
       "102                 0              1               1                 0   \n",
       "167                 0              1               1                 0   \n",
       "32                  0              1               1                 0   \n",
       "178                 0              1               1                 0   \n",
       "\n",
       "     body-style_convertible  body-style_hardtop  body-style_hatchback  \\\n",
       "35                        0                   0                     0   \n",
       "102                       0                   0                     0   \n",
       "167                       0                   1                     0   \n",
       "32                        0                   0                     1   \n",
       "178                       0                   0                     1   \n",
       "\n",
       "     body-style_sedan  body-style_wagon  drive-wheels_4wd  drive-wheels_fwd  \\\n",
       "35                  1                 0                 0                 1   \n",
       "102                 0                 1                 0                 1   \n",
       "167                 0                 0                 0                 0   \n",
       "32                  0                 0                 0                 1   \n",
       "178                 0                 0                 0                 0   \n",
       "\n",
       "     drive-wheels_rwd  engine-location_front  engine-location_rear  \\\n",
       "35                  0                      1                     0   \n",
       "102                 0                      1                     0   \n",
       "167                 1                      1                     0   \n",
       "32                  0                      1                     0   \n",
       "178                 1                      1                     0   \n",
       "\n",
       "     engine-type_dohc  engine-type_l  engine-type_ohc  engine-type_ohcf  \\\n",
       "35                  0              0                1                 0   \n",
       "102                 0              0                0                 0   \n",
       "167                 0              0                1                 0   \n",
       "32                  0              0                1                 0   \n",
       "178                 1              0                0                 0   \n",
       "\n",
       "     engine-type_ohcv  fuel-system_1bbl  fuel-system_2bbl  fuel-system_idi  \\\n",
       "35                  0                 1                 0                0   \n",
       "102                 1                 0                 0                0   \n",
       "167                 0                 0                 0                0   \n",
       "32                  0                 1                 0                0   \n",
       "178                 0                 0                 0                0   \n",
       "\n",
       "     fuel-system_mfi  fuel-system_mpfi  fuel-system_spdi  fuel-system_spfi  \n",
       "35                 0                 0                 0                 0  \n",
       "102                0                 1                 0                 0  \n",
       "167                0                 1                 0                 0  \n",
       "32                 0                 0                 0                 0  \n",
       "178                0                 1                 0                 0  "
      ]
     },
     "execution_count": 40,
     "metadata": {},
     "output_type": "execute_result"
    }
   ],
   "source": [
    "X.head()"
   ]
  },
  {
   "cell_type": "code",
   "execution_count": 41,
   "metadata": {},
   "outputs": [],
   "source": [
    "from sklearn.model_selection import cross_val_score\n",
    "from sklearn.linear_model import LinearRegression"
   ]
  },
  {
   "cell_type": "code",
   "execution_count": 42,
   "metadata": {},
   "outputs": [
    {
     "name": "stdout",
     "output_type": "stream",
     "text": [
      "the R^2 score for linear regression is 0.902\n"
     ]
    }
   ],
   "source": [
    "lr=LinearRegression()\n",
    "print(\"the R^2 score for linear regression is {:.3}\".format(cross_val_score(lr, X, y, cv=5,scoring=\"r2\").mean()))"
   ]
  },
  {
   "cell_type": "code",
   "execution_count": 43,
   "metadata": {},
   "outputs": [
    {
     "data": {
      "text/plain": [
       "array([0.86800819, 0.95278858, 0.85226614, 0.90689299, 0.92955177])"
      ]
     },
     "execution_count": 43,
     "metadata": {},
     "output_type": "execute_result"
    }
   ],
   "source": [
    "cross_val_score(lr, X, y, cv=5)"
   ]
  },
  {
   "cell_type": "markdown",
   "metadata": {},
   "source": [
    "### Lasso Regression (L1 Regularization)"
   ]
  },
  {
   "cell_type": "code",
   "execution_count": 44,
   "metadata": {},
   "outputs": [],
   "source": [
    "from sklearn import linear_model\n",
    "lasso=linear_model.Lasso(random_state=0)"
   ]
  },
  {
   "cell_type": "code",
   "execution_count": 45,
   "metadata": {},
   "outputs": [
    {
     "data": {
      "text/plain": [
       "array([0.87776112, 0.95351592, 0.85817352, 0.90915472, 0.92930713])"
      ]
     },
     "execution_count": 45,
     "metadata": {},
     "output_type": "execute_result"
    }
   ],
   "source": [
    "cross_val_score(lasso, X, y, cv=5)"
   ]
  },
  {
   "cell_type": "code",
   "execution_count": 46,
   "metadata": {},
   "outputs": [],
   "source": [
    "from sklearn.model_selection import GridSearchCV\n",
    "params={\"alpha\":[10,50,100,200,300]}\n",
    "g=GridSearchCV(lasso, param_grid=params).fit(X,y)"
   ]
  },
  {
   "cell_type": "code",
   "execution_count": 47,
   "metadata": {},
   "outputs": [
    {
     "name": "stdout",
     "output_type": "stream",
     "text": [
      "0.9114185334657288\n",
      "{'alpha': 10}\n"
     ]
    }
   ],
   "source": [
    "print(g.best_score_)\n",
    "print(g.best_params_)"
   ]
  },
  {
   "cell_type": "code",
   "execution_count": 48,
   "metadata": {},
   "outputs": [],
   "source": [
    "#g.cv_results_"
   ]
  },
  {
   "cell_type": "code",
   "execution_count": 49,
   "metadata": {},
   "outputs": [
    {
     "name": "stdout",
     "output_type": "stream",
     "text": [
      "0.9114185334657288\n",
      "{'alpha': 10}\n"
     ]
    }
   ],
   "source": [
    "params1={\"alpha\":range(10,50)}\n",
    "g1=GridSearchCV(lasso, param_grid=params1,scoring=\"r2\").fit(X,y)\n",
    "print(g1.best_score_)\n",
    "print(g1.best_params_)"
   ]
  },
  {
   "cell_type": "code",
   "execution_count": 50,
   "metadata": {},
   "outputs": [
    {
     "name": "stdout",
     "output_type": "stream",
     "text": [
      "0.9553157379005073\n",
      "5.79465716522223\n"
     ]
    }
   ],
   "source": [
    "from sklearn.linear_model import LassoCV\n",
    "lassocv=LassoCV(cv=5).fit(X,y)\n",
    "print(lassocv.score(X,y))\n",
    "print(lassocv.alpha_)"
   ]
  },
  {
   "cell_type": "code",
   "execution_count": 51,
   "metadata": {},
   "outputs": [
    {
     "data": {
      "text/plain": [
       "0.9116958172417601"
      ]
     },
     "execution_count": 51,
     "metadata": {},
     "output_type": "execute_result"
    }
   ],
   "source": [
    "cross_val_score(linear_model.Lasso(alpha=lassocv.alpha_,random_state=123), X, y, cv=5).mean()"
   ]
  },
  {
   "cell_type": "code",
   "execution_count": 52,
   "metadata": {},
   "outputs": [],
   "source": [
    "best_lasso=linear_model.Lasso(alpha=10,random_state=123).fit(X,y)\n",
    "\n",
    "lasso_coefs=pd.Series(best_lasso.coef_ ,index=X.columns)\n",
    "significant_lasso_coefs=pd.concat([lasso_coefs.sort_values().head(10),lasso_coefs.sort_values().tail(10)])"
   ]
  },
  {
   "cell_type": "code",
   "execution_count": 53,
   "metadata": {},
   "outputs": [
    {
     "data": {
      "text/plain": [
       "<AxesSubplot:>"
      ]
     },
     "execution_count": 53,
     "metadata": {},
     "output_type": "execute_result"
    },
    {
     "data": {
      "image/png": "[encoded data removed]",
      "text/plain": [
       "<Figure size 720x288 with 1 Axes>"
      ]
     },
     "metadata": {
      "needs_background": "light"
     },
     "output_type": "display_data"
    }
   ],
   "source": [
    "plt.figure(figsize=(10,4))\n",
    "significant_lasso_coefs.plot(kind=\"barh\")"
   ]
  },
  {
   "cell_type": "code",
   "execution_count": 54,
   "metadata": {},
   "outputs": [
    {
     "name": "stdout",
     "output_type": "stream",
     "text": [
      "lasso picked 39 variables and eliminated 18 variables.\n"
     ]
    }
   ],
   "source": [
    "print(\"lasso picked {0} variables and eliminated {1} variables.\".format(\n",
    "                len([i for i in best_lasso.coef_ if i != 0]),len([i for i in best_lasso.coef_ if i == 0])))"
   ]
  },
  {
   "cell_type": "markdown",
   "metadata": {},
   "source": [
    "### Ridge Regression (L2 Regulariztion)"
   ]
  },
  {
   "cell_type": "code",
   "execution_count": 55,
   "metadata": {},
   "outputs": [],
   "source": [
    "from sklearn.linear_model import Ridge\n",
    "ridge=Ridge(random_state=123)"
   ]
  },
  {
   "cell_type": "code",
   "execution_count": 56,
   "metadata": {},
   "outputs": [
    {
     "data": {
      "text/plain": [
       "0.9072908630583487"
      ]
     },
     "execution_count": 56,
     "metadata": {},
     "output_type": "execute_result"
    }
   ],
   "source": [
    "cross_val_score(ridge, X, y, cv=5).mean()"
   ]
  },
  {
   "cell_type": "code",
   "execution_count": 57,
   "metadata": {},
   "outputs": [],
   "source": [
    "from sklearn.model_selection import GridSearchCV\n",
    "params3={\"alpha\":[0.1,0.3,0.7,0.9,1]}\n",
    "g3=GridSearchCV(ridge, param_grid=params3).fit(X,y)"
   ]
  },
  {
   "cell_type": "code",
   "execution_count": 58,
   "metadata": {},
   "outputs": [
    {
     "name": "stdout",
     "output_type": "stream",
     "text": [
      "0.9128692311339007\n",
      "{'alpha': 0.3}\n"
     ]
    }
   ],
   "source": [
    "print(g3.best_score_)\n",
    "print(g3.best_params_)"
   ]
  },
  {
   "cell_type": "code",
   "execution_count": 59,
   "metadata": {},
   "outputs": [],
   "source": [
    "#g3.cv_results"
   ]
  },
  {
   "cell_type": "code",
   "execution_count": 60,
   "metadata": {},
   "outputs": [],
   "source": [
    "best_ridge=g3.best_estimator_.fit(X,y)\n",
    "\n",
    "ridge_coefs=pd.Series(best_ridge.coef_ ,index=X.columns)\n",
    "significant_ridge_coefs=pd.concat([ridge_coefs.sort_values().head(10),ridge_coefs.sort_values().tail(10)])"
   ]
  },
  {
   "cell_type": "code",
   "execution_count": 61,
   "metadata": {},
   "outputs": [
    {
     "data": {
      "text/plain": [
       "<AxesSubplot:>"
      ]
     },
     "execution_count": 61,
     "metadata": {},
     "output_type": "execute_result"
    },
    {
     "data": {
      "image/png": "[encoded data removed]",
      "text/plain": [
       "<Figure size 720x288 with 1 Axes>"
      ]
     },
     "metadata": {
      "needs_background": "light"
     },
     "output_type": "display_data"
    }
   ],
   "source": [
    "plt.figure(figsize=(10,4))\n",
    "significant_ridge_coefs.plot(kind=\"barh\")"
   ]
  },
  {
   "cell_type": "markdown",
   "metadata": {},
   "source": [
    "### Random Forest Regressor"
   ]
  },
  {
   "cell_type": "code",
   "execution_count": 62,
   "metadata": {},
   "outputs": [],
   "source": [
    "from sklearn.ensemble import RandomForestRegressor\n",
    "forest=RandomForestRegressor(n_estimators=100,random_state=0)"
   ]
  },
  {
   "cell_type": "code",
   "execution_count": 63,
   "metadata": {},
   "outputs": [
    {
     "data": {
      "text/plain": [
       "array([0.89598058, 0.94693459, 0.87287262, 0.890229  , 0.93453226])"
      ]
     },
     "execution_count": 63,
     "metadata": {},
     "output_type": "execute_result"
    }
   ],
   "source": [
    "cross_val_score(forest,X,y,cv=5,scoring=\"r2\")"
   ]
  },
  {
   "cell_type": "code",
   "execution_count": 64,
   "metadata": {},
   "outputs": [],
   "source": [
    "params2={\"max_depth\":range(3,11),\"min_samples_split\":range(2,20,1)}\n",
    "g2=GridSearchCV(forest, param_grid=params2,n_jobs=-1).fit(X,y)"
   ]
  },
  {
   "cell_type": "code",
   "execution_count": 65,
   "metadata": {},
   "outputs": [
    {
     "name": "stdout",
     "output_type": "stream",
     "text": [
      "0.911015256715136\n",
      "{'max_depth': 10, 'min_samples_split': 3}\n"
     ]
    }
   ],
   "source": [
    "print(g2.best_score_)\n",
    "print(g2.best_params_)"
   ]
  },
  {
   "cell_type": "code",
   "execution_count": 66,
   "metadata": {},
   "outputs": [
    {
     "data": {
      "text/plain": [
       "RandomForestRegressor(max_depth=10, min_samples_split=3, random_state=0)"
      ]
     },
     "execution_count": 66,
     "metadata": {},
     "output_type": "execute_result"
    }
   ],
   "source": [
    "g2.best_estimator_"
   ]
  },
  {
   "cell_type": "code",
   "execution_count": 67,
   "metadata": {},
   "outputs": [],
   "source": [
    "best_tree=g2.best_estimator_"
   ]
  },
  {
   "cell_type": "code",
   "execution_count": 68,
   "metadata": {},
   "outputs": [],
   "source": [
    "tree_coefs=pd.Series(best_tree.feature_importances_,index=X.columns).sort_values()"
   ]
  },
  {
   "cell_type": "code",
   "execution_count": 69,
   "metadata": {},
   "outputs": [
    {
     "data": {
      "text/plain": [
       "<AxesSubplot:>"
      ]
     },
     "execution_count": 69,
     "metadata": {},
     "output_type": "execute_result"
    },
    {
     "data": {
      "image/png": "[encoded data removed]",
      "text/plain": [
       "<Figure size 720x288 with 1 Axes>"
      ]
     },
     "metadata": {
      "needs_background": "light"
     },
     "output_type": "display_data"
    }
   ],
   "source": [
    "significant_tree_coefs=tree_coefs.tail(20)\n",
    "plt.figure(figsize=(10,4))\n",
    "significant_tree_coefs.plot(kind=\"barh\")"
   ]
  },
  {
   "cell_type": "markdown",
   "metadata": {},
   "source": [
    "# Take a glance how well the three regressor works"
   ]
  },
  {
   "cell_type": "code",
   "execution_count": 81,
   "metadata": {},
   "outputs": [
    {
     "data": {
      "text/plain": [
       "lr_score               0.901902\n",
       "lasso_score            0.911419\n",
       "ridge_score            0.912869\n",
       "random_forest_score    0.911015\n",
       "dtype: float64"
      ]
     },
     "execution_count": 81,
     "metadata": {},
     "output_type": "execute_result"
    }
   ],
   "source": [
    "pd.Series({\"lr_score\":cross_val_score(lr, X, y, cv=5,scoring=\"r2\").mean(),\n",
    "              \"lasso_score\":cross_val_score(linear_model.Lasso(alpha=10,random_state=123), X, y, cv=5).mean(),\n",
    "              \"ridge_score\":g3.best_score_,\n",
    "              \"random_forest_score\":g2.best_score_})"
   ]
  },
  {
   "cell_type": "code",
   "execution_count": 74,
   "metadata": {},
   "outputs": [],
   "source": [
    "lr_result=lr.fit(X,y).predict(X)\n",
    "lasso_result=best_lasso.predict(X)\n",
    "ridge_result=best_ridge.predict(X)\n",
    "forest_result=best_tree.fit(X,y).predict(X)"
   ]
  },
  {
   "cell_type": "code",
   "execution_count": 78,
   "metadata": {},
   "outputs": [
    {
     "data": {
      "text/html": [
       "<div>\n",
       "<style scoped>\n",
       "    .dataframe tbody tr th:only-of-type {\n",
       "        vertical-align: middle;\n",
       "    }\n",
       "\n",
       "    .dataframe tbody tr th {\n",
       "        vertical-align: top;\n",
       "    }\n",
       "\n",
       "    .dataframe thead th {\n",
       "        text-align: right;\n",
       "    }\n",
       "</style>\n",
       "<table border=\"1\" class=\"dataframe\">\n",
       "  <thead>\n",
       "    <tr style=\"text-align: right;\">\n",
       "      <th></th>\n",
       "      <th>y</th>\n",
       "      <th>lr_result</th>\n",
       "      <th>lasso_result</th>\n",
       "      <th>ridge_result</th>\n",
       "      <th>forest_result</th>\n",
       "    </tr>\n",
       "  </thead>\n",
       "  <tbody>\n",
       "    <tr>\n",
       "      <th>35</th>\n",
       "      <td>7295.0</td>\n",
       "      <td>7464.665553</td>\n",
       "      <td>7812.119131</td>\n",
       "      <td>7742.609250</td>\n",
       "      <td>7304.314040</td>\n",
       "    </tr>\n",
       "    <tr>\n",
       "      <th>102</th>\n",
       "      <td>14399.0</td>\n",
       "      <td>16373.550216</td>\n",
       "      <td>17231.287129</td>\n",
       "      <td>16694.827629</td>\n",
       "      <td>15233.026563</td>\n",
       "    </tr>\n",
       "    <tr>\n",
       "      <th>167</th>\n",
       "      <td>8449.0</td>\n",
       "      <td>11748.237865</td>\n",
       "      <td>12080.565872</td>\n",
       "      <td>12225.334601</td>\n",
       "      <td>9021.265966</td>\n",
       "    </tr>\n",
       "    <tr>\n",
       "      <th>32</th>\n",
       "      <td>5399.0</td>\n",
       "      <td>4896.667138</td>\n",
       "      <td>5128.919447</td>\n",
       "      <td>5261.574744</td>\n",
       "      <td>5653.603560</td>\n",
       "    </tr>\n",
       "    <tr>\n",
       "      <th>178</th>\n",
       "      <td>16558.0</td>\n",
       "      <td>15942.806724</td>\n",
       "      <td>16834.690161</td>\n",
       "      <td>16389.492458</td>\n",
       "      <td>16703.863795</td>\n",
       "    </tr>\n",
       "    <tr>\n",
       "      <th>18</th>\n",
       "      <td>5151.0</td>\n",
       "      <td>5151.000000</td>\n",
       "      <td>1672.249919</td>\n",
       "      <td>3456.738812</td>\n",
       "      <td>5461.711000</td>\n",
       "    </tr>\n",
       "    <tr>\n",
       "      <th>161</th>\n",
       "      <td>8358.0</td>\n",
       "      <td>6577.028966</td>\n",
       "      <td>6674.556726</td>\n",
       "      <td>6608.376746</td>\n",
       "      <td>8211.820422</td>\n",
       "    </tr>\n",
       "    <tr>\n",
       "      <th>176</th>\n",
       "      <td>10898.0</td>\n",
       "      <td>8874.091705</td>\n",
       "      <td>9629.006254</td>\n",
       "      <td>9553.737520</td>\n",
       "      <td>10519.846933</td>\n",
       "    </tr>\n",
       "    <tr>\n",
       "      <th>81</th>\n",
       "      <td>8499.0</td>\n",
       "      <td>7556.899176</td>\n",
       "      <td>8387.460869</td>\n",
       "      <td>8352.688477</td>\n",
       "      <td>8385.992936</td>\n",
       "    </tr>\n",
       "    <tr>\n",
       "      <th>199</th>\n",
       "      <td>18950.0</td>\n",
       "      <td>17978.659854</td>\n",
       "      <td>17823.241446</td>\n",
       "      <td>18895.767545</td>\n",
       "      <td>18829.741583</td>\n",
       "    </tr>\n",
       "  </tbody>\n",
       "</table>\n",
       "</div>"
      ],
      "text/plain": [
       "           y     lr_result  lasso_result  ridge_result  forest_result\n",
       "35    7295.0   7464.665553   7812.119131   7742.609250    7304.314040\n",
       "102  14399.0  16373.550216  17231.287129  16694.827629   15233.026563\n",
       "167   8449.0  11748.237865  12080.565872  12225.334601    9021.265966\n",
       "32    5399.0   4896.667138   5128.919447   5261.574744    5653.603560\n",
       "178  16558.0  15942.806724  16834.690161  16389.492458   16703.863795\n",
       "18    5151.0   5151.000000   1672.249919   3456.738812    5461.711000\n",
       "161   8358.0   6577.028966   6674.556726   6608.376746    8211.820422\n",
       "176  10898.0   8874.091705   9629.006254   9553.737520   10519.846933\n",
       "81    8499.0   7556.899176   8387.460869   8352.688477    8385.992936\n",
       "199  18950.0  17978.659854  17823.241446  18895.767545   18829.741583"
      ]
     },
     "execution_count": 78,
     "metadata": {},
     "output_type": "execute_result"
    }
   ],
   "source": [
    "pd.DataFrame({\"y\":y,\"lr_result\":lr_result,\"lasso_result\":lasso_result,\"ridge_result\":ridge_result,\"forest_result\":forest_result}).head(10)"
   ]
  },
  {
   "cell_type": "code",
   "execution_count": null,
   "metadata": {},
   "outputs": [],
   "source": []
  }
 ],
 "metadata": {
  "kernelspec": {
   "display_name": "Python 3",
   "language": "python",
   "name": "python3"
  },
  "language_info": {
   "codemirror_mode": {
    "name": "ipython",
    "version": 3
   },
   "file_extension": ".py",
   "mimetype": "text/x-python",
   "name": "python",
   "nbconvert_exporter": "python",
   "pygments_lexer": "ipython3",
   "version": "3.8.2"
  }
 },
 "nbformat": 4,
 "nbformat_minor": 4
}
